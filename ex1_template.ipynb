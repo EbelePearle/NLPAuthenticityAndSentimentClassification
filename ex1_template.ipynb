{
 "cells": [
  {
   "cell_type": "code",
   "execution_count": 1,
   "metadata": {
    "collapsed": true
   },
   "outputs": [],
   "source": [
    "import csv                               # csv reader\n",
    "from sklearn.svm import LinearSVC\n",
    "from nltk.classify import SklearnClassifier\n",
    "from nltk.stem.porter import PorterStemmer\n",
    "from nltk.stem import WordNetLemmatizer # Need to run nltk.download('wordnet') from python console first\n",
    "from IPython.display import display\n",
    "from nltk.corpus import stopwords # Need to run nltk.download('stopwords') from python console first\n",
    "from random import shuffle\n",
    "from sklearn.pipeline import Pipeline\n",
    "from sklearn.metrics import precision_recall_fscore_support, accuracy_score\n",
    "from collections import Counter\n",
    "import numpy\n",
    "import string"
   ]
  },
  {
   "cell_type": "code",
   "execution_count": 2,
   "metadata": {
    "collapsed": true
   },
   "outputs": [],
   "source": [
    "# load data from a file and append it to the rawData\n",
    "def loadData(path, Text=None):\n",
    "    with open(path, encoding=\"utf8\") as f:\n",
    "        reader = csv.reader(f, delimiter='\\t')\n",
    "        next(reader, None)\n",
    "        for line in reader:\n",
    "            (Id, Text, Rating, Verified, ProductID, Label) = parseReview(line)\n",
    "            rawData.append((Id, Text, Rating, Verified, ProductID, Label))\n",
    "            preprocessedData.append((Id, preProcess(Text, Rating, Verified, ProductID), Label))\n",
    "        \n",
    "def splitData(percentage):\n",
    "    dataSamples = len(rawData)\n",
    "    halfOfData = int(len(rawData)/2)\n",
    "    trainingSamples = int((percentage*dataSamples)/2)\n",
    "    for (_, Text, Rating, Verified, ProductID, Label) in rawData[:trainingSamples] + rawData[halfOfData:halfOfData+trainingSamples]:\n",
    "        trainData.append((toFeatureVector(preProcess(Text, Rating, Verified, ProductID)),Label))\n",
    "    for (_, Text, Rating, Verified, ProductID, Label) in rawData[trainingSamples:halfOfData] + rawData[halfOfData+trainingSamples:]:\n",
    "        testData.append((toFeatureVector(preProcess(Text, Rating, Verified, ProductID)),Label))"
   ]
  },
  {
   "cell_type": "code",
   "execution_count": 3,
   "metadata": {
    "collapsed": true
   },
   "outputs": [],
   "source": [
    "# QUESTION 1\n",
    "\n",
    "def parseReview(reviewLine):\n",
    "    ID = 0\n",
    "    TEXT = 8\n",
    "    LABEL = 1\n",
    "    RATING = 2\n",
    "    VERIFIED_PURCHASE = 3\n",
    "    PRODUCT_ID = 5\n",
    "    tuple = (int(reviewLine[ID]), reviewLine[TEXT], int(reviewLine[RATING]), True if reviewLine[VERIFIED_PURCHASE] == 'Y' else False, reviewLine[PRODUCT_ID], fakeLabel if reviewLine[LABEL]=='__label1__' else realLabel)\n",
    "    return tuple\n"
   ]
  },
  {
   "cell_type": "code",
   "execution_count": 4,
   "metadata": {
    "collapsed": true
   },
   "outputs": [],
   "source": [
    "# TEXT PREPROCESSING AND FEATURE VECTORIZATION\n",
    "\n",
    "# Input: a string of one review\n",
    "def preProcess(text, rating, verified, product_id):\n",
    "    # Should return a list of tokens\n",
    "    tokens = text.split(\" \")\n",
    "    \n",
    "    # Stemming and lemmatisation\n",
    "    porter_stemmer = PorterStemmer()\n",
    "    wordnet_lemmatizer = WordNetLemmatizer()\n",
    "    \n",
    "    \n",
    "    # Removing the stop word. You will need to run nltk.download(\"stopwords\") in python console.\n",
    "    stop_words = set(stopwords.words('english'))\n",
    "    filtered_tokens = [w for w in tokens if not w in stop_words]\n",
    "    filtered_tokens = []\n",
    "    for w in tokens:\n",
    "        if w not in stop_words:\n",
    "            filtered_tokens.append(w)\n",
    "    \n",
    "    filtered_tokens = list(map(lambda x : porter_stemmer.stem(wordnet_lemmatizer.lemmatize(x)), filtered_tokens))\n",
    "    filtered_tokens = list(map(lambda x : x.translate(string.punctuation), filtered_tokens))\n",
    "    \n",
    "    return (filtered_tokens, rating, verified, product_id)\n",
    "#     return filtered_tokens\n",
    "#     return tokens"
   ]
  },
  {
   "cell_type": "code",
   "execution_count": 5,
   "metadata": {
    "collapsed": true
   },
   "outputs": [],
   "source": [
    "# QUESTION 2\n",
    "featureDict = {} # A global dictionary of features\n",
    "\n",
    "def toFeatureVector(tokens):\n",
    "    featurevect = dict(Counter(tokens[0]))\n",
    "    featurevect['rating'] = tokens[1]\n",
    "    featurevect['verified'] = int(tokens[2])\n",
    "    featurevect[tokens[3]] = 1  \n",
    "#     print(dict(Counter(tokens[0])))\n",
    "#     print(featurevect)\n",
    "    return  featurevect"
   ]
  },
  {
   "cell_type": "code",
   "execution_count": 6,
   "metadata": {
    "collapsed": true
   },
   "outputs": [],
   "source": [
    "# TRAINING AND VALIDATING OUR CLASSIFIER\n",
    "def trainClassifier(trainData):\n",
    "    print(\"Training Classifier...\")\n",
    "    pipeline =  Pipeline([('svc', LinearSVC())])\n",
    "    return SklearnClassifier(pipeline).train(trainData)"
   ]
  },
  {
   "cell_type": "code",
   "execution_count": 7,
   "metadata": {
    "collapsed": true
   },
   "outputs": [],
   "source": [
    "# QUESTION 3\n",
    "\n",
    "# Get the weight of the category out of all the categories.\n",
    "def getCatWeight(cat):\n",
    "    weight = dict(Counter(categories))\n",
    "    return weight[cat]\n",
    "    \n",
    "\n",
    "def crossValidate(dataset, folds): \n",
    "    shuffle(dataset)\n",
    "#     for x in range(0,len(dataset)):\n",
    "#         cat = ''\n",
    "#         for key in list(dataset[x][0].keys()):\n",
    "#             if key in categories:\n",
    "#                 cat = key\n",
    "        \n",
    "#         dataset[x][0][cat] = getCatWeight(cat)\n",
    "#     print(\"Weighted assigned.\")\n",
    "    cv_results = []\n",
    "    foldSize = int(len(dataset)/folds) # How much is the size of one fold?\n",
    "    #print(foldSize)\n",
    "    for i in range(0,len(dataset),foldSize):\n",
    "        testFold = dataset[i:i+foldSize] # This our fold used for testing.\n",
    "        trainingData = dataset[0:i] + dataset[foldSize:]\n",
    "        classifier = trainClassifier(trainingData)\n",
    "        y_pred = predictLabels(testFold, classifier)\n",
    "        y_true = list(map(lambda t: t[1], testFold))\n",
    "        results = list(precision_recall_fscore_support(y_true, y_pred, average='weighted'))\n",
    "        results[3] = accuracy_score(y_true, y_pred) * 100\n",
    "        cv_results.append(tuple(results))\n",
    "        \n",
    "    return cv_results"
   ]
  },
  {
   "cell_type": "code",
   "execution_count": 8,
   "metadata": {
    "collapsed": true
   },
   "outputs": [],
   "source": [
    "# PREDICTING LABELS GIVEN A CLASSIFIER\n",
    "\n",
    "def predictLabels(reviewSamples, classifier):\n",
    "    return classifier.classify_many(map(lambda t: t[0], reviewSamples))\n",
    "\n",
    "def predictLabel(reviewSample, classifier):\n",
    "    return classifier.classify(toFeatureVector(preProcess(reviewSample)))"
   ]
  },
  {
   "cell_type": "code",
   "execution_count": 9,
   "metadata": {
    "scrolled": true
   },
   "outputs": [
    {
     "name": "stdout",
     "output_type": "stream",
     "text": [
      "Now 0 rawData, 0 trainData, 0 testData\n",
      "Preparing the dataset...\n",
      "Now 21000 rawData, 0 trainData, 0 testData\n",
      "Preparing training and test data...\n",
      "Now 21000 rawData, 16800 trainData, 4200 testData\n",
      "Training Samples: \n",
      "16800\n",
      "Features: \n",
      "0\n",
      "Training Classifier...\n",
      "Training Classifier...\n",
      "Training Classifier...\n",
      "Training Classifier...\n",
      "Training Classifier...\n",
      "Training Classifier...\n",
      "Training Classifier...\n",
      "Training Classifier...\n",
      "Training Classifier...\n",
      "Training Classifier...\n"
     ]
    },
    {
     "data": {
      "text/plain": [
       "[(0.77385042483067235,\n",
       "  0.77380952380952384,\n",
       "  0.77382010426013148,\n",
       "  77.38095238095238),\n",
       " (1.0, 1.0, 1.0, 100.0),\n",
       " (1.0, 1.0, 1.0, 100.0),\n",
       " (1.0, 1.0, 1.0, 100.0),\n",
       " (1.0, 1.0, 1.0, 100.0),\n",
       " (1.0, 1.0, 1.0, 100.0),\n",
       " (1.0, 1.0, 1.0, 100.0),\n",
       " (1.0, 1.0, 1.0, 100.0),\n",
       " (1.0, 1.0, 1.0, 100.0),\n",
       " (1.0, 1.0, 1.0, 100.0)]"
      ]
     },
     "metadata": {},
     "output_type": "display_data"
    },
    {
     "name": "stdout",
     "output_type": "stream",
     "text": [
      "Done!\n"
     ]
    }
   ],
   "source": [
    "# MAIN\n",
    "\n",
    "# loading reviews\n",
    "rawData = []          # the filtered data from the dataset file (should be 21000 samples)\n",
    "preprocessedData = [] # the preprocessed reviews (just to see how your preprocessing is doing)\n",
    "trainData = []        # the training data as a percentage of the total dataset (currently 80%, or 16800 samples)\n",
    "testData = []         # the test data as a percentage of the total dataset (currently 20%, or 4200 samples)\n",
    "\n",
    "# the output classes\n",
    "fakeLabel = 'fake'\n",
    "realLabel = 'real'\n",
    "\n",
    "# references to the data files\n",
    "reviewPath = 'amazon_reviews.txt'\n",
    "\n",
    "## Do the actual stuff\n",
    "# We parse the dataset and put it in a raw data list\n",
    "print(\"Now %d rawData, %d trainData, %d testData\" % (len(rawData), len(trainData), len(testData)),\n",
    "      \"Preparing the dataset...\",sep='\\n')\n",
    "loadData(reviewPath)\n",
    "# print(categories)\n",
    "\n",
    "# We split the raw dataset into a set of training data and a set of test data (80/20)\n",
    "print(\"Now %d rawData, %d trainData, %d testData\" % (len(rawData), len(trainData), len(testData)),\n",
    "      \"Preparing training and test data...\",sep='\\n')\n",
    "splitData(0.8)\n",
    "# We print the number of training samples and the number of features\n",
    "print(\"Now %d rawData, %d trainData, %d testData\" % (len(rawData), len(trainData), len(testData)),\n",
    "      \"Training Samples: \", len(trainData), \"Features: \", len(featureDict), sep='\\n')\n",
    "cvResults = crossValidate(trainData, 10)\n",
    "display(cvResults)\n",
    "\n",
    "# print(\"More analysis:\")\n",
    "# fakes = list(filter(lambda x: x[5] == \"fake\", rawData))\n",
    "# reals = list(filter(lambda x: x[5] == \"real\", rawData))\n",
    "# fakesTotalLength = 0\n",
    "# realsTotalLength = 0\n",
    "\n",
    "# for x in fakes:\n",
    "#     fakesTotalLength += len(x[1])\n",
    "    \n",
    "# for x in reals:\n",
    "#     realsTotalLength += len(x[1])\n",
    "\n",
    "# print(\"Average fake review length: %f\" % float(fakesTotalLength / len(fakes)))\n",
    "# print(\"Average real review length: %f\" % float(realsTotalLength / len(reals)))\n",
    "\n",
    "print(\"Done!\")"
   ]
  },
  {
   "cell_type": "code",
   "execution_count": null,
   "metadata": {
    "collapsed": true
   },
   "outputs": [],
   "source": []
  },
  {
   "cell_type": "code",
   "execution_count": null,
   "metadata": {
    "collapsed": true
   },
   "outputs": [],
   "source": []
  },
  {
   "cell_type": "code",
   "execution_count": null,
   "metadata": {
    "collapsed": true
   },
   "outputs": [],
   "source": []
  },
  {
   "cell_type": "code",
   "execution_count": null,
   "metadata": {
    "collapsed": true
   },
   "outputs": [],
   "source": []
  }
 ],
 "metadata": {
  "kernelspec": {
   "display_name": "Python 3",
   "language": "python",
   "name": "python3"
  },
  "language_info": {
   "codemirror_mode": {
    "name": "ipython",
    "version": 3
   },
   "file_extension": ".py",
   "mimetype": "text/x-python",
   "name": "python",
   "nbconvert_exporter": "python",
   "pygments_lexer": "ipython3",
   "version": "3.6.3"
  }
 },
 "nbformat": 4,
 "nbformat_minor": 2
}
